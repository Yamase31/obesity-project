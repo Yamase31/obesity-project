{
 "cells": [
  {
   "cell_type": "markdown",
   "metadata": {},
   "source": [
    "# Weekly Progress Reports\n",
    "\n",
    "# Data Analysis 4: Enter Date\n",
    "\n",
    "# Goals:"
   ]
  },
  {
   "cell_type": "markdown",
   "metadata": {},
   "source": [
    "**Overarching Goals for this phase of the project**:\n",
    "\n",
    "   -   \n",
    "\n",
    "   -  \n",
    "\n",
    "   - \n",
    "\n",
    "\n",
    "**Individual Goals for this phase of the project**:\n",
    "\n",
    "   -   \n",
    "\n",
    "   -  \n",
    "\n",
    "   - "
   ]
  },
  {
   "cell_type": "code",
   "execution_count": 1,
   "metadata": {},
   "outputs": [],
   "source": [
    "# code goes here"
   ]
  },
  {
   "cell_type": "markdown",
   "metadata": {},
   "source": [
    "**Preliminary Notes - Comparison 4**:\n",
    "\n",
    "\n",
    "**Things I could not make work**:\n",
    "\n",
    "   -   \n",
    "\n",
    "   -  \n",
    "\n",
    "   - \n",
    "\n",
    "\n",
    "**Things I could make work**:\n",
    "\n",
    "   -   \n",
    "\n",
    "   -  \n",
    "\n",
    "   - "
   ]
  }
 ],
 "metadata": {
  "kernelspec": {
   "display_name": "Python 3",
   "language": "python",
   "name": "python3"
  },
  "language_info": {
   "codemirror_mode": {
    "name": "ipython",
    "version": 3
   },
   "file_extension": ".py",
   "mimetype": "text/x-python",
   "name": "python",
   "nbconvert_exporter": "python",
   "pygments_lexer": "ipython3",
   "version": "3.7.4"
  }
 },
 "nbformat": 4,
 "nbformat_minor": 4
}
